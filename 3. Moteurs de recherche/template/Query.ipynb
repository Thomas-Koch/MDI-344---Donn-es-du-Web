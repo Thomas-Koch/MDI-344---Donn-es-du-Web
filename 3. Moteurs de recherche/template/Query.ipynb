{
 "cells": [
  {
   "cell_type": "code",
   "execution_count": 34,
   "metadata": {},
   "outputs": [],
   "source": [
    "import sqlite3"
   ]
  },
  {
   "cell_type": "code",
   "execution_count": 35,
   "metadata": {},
   "outputs": [],
   "source": [
    "conn = sqlite3.connect(\"data.db\")\n",
    "cursor = conn.cursor()"
   ]
  },
  {
   "cell_type": "markdown",
   "metadata": {},
   "source": [
    "----"
   ]
  },
  {
   "cell_type": "code",
   "execution_count": 10,
   "metadata": {},
   "outputs": [
    {
     "name": "stdout",
     "output_type": "stream",
     "text": [
      "(6424,)\n"
     ]
    }
   ],
   "source": [
    "for row in cursor.execute(\"SELECT COUNT(DISTINCT URL) FROM webpages\"):\n",
    "        print(row)"
   ]
  },
  {
   "cell_type": "code",
   "execution_count": 15,
   "metadata": {},
   "outputs": [
    {
     "name": "stdout",
     "output_type": "stream",
     "text": [
      "(9048,)\n"
     ]
    }
   ],
   "source": [
    "for row in cursor.execute(\"SELECT COUNT(DISTINCT queryURL) FROM responses\"):\n",
    "        print(row)"
   ]
  },
  {
   "cell_type": "markdown",
   "metadata": {},
   "source": [
    "----"
   ]
  },
  {
   "cell_type": "code",
   "execution_count": 20,
   "metadata": {},
   "outputs": [
    {
     "name": "stdout",
     "output_type": "stream",
     "text": [
      "(3197,)\n"
     ]
    }
   ],
   "source": [
    "for row in cursor.execute(\"SELECT COUNT(DISTINCT queryURL) FROM responses WHERE queryURL = respURL\"):\n",
    "        print(row)"
   ]
  },
  {
   "cell_type": "markdown",
   "metadata": {},
   "source": [
    "----"
   ]
  },
  {
   "cell_type": "code",
   "execution_count": 51,
   "metadata": {},
   "outputs": [
    {
     "name": "stdout",
     "output_type": "stream",
     "text": [
      "(9019,)\n"
     ]
    }
   ],
   "source": [
    "for row in cursor.execute(\"SELECT COUNT(DISTINCT queryURL) FROM responses WHERE queryURL LIKE 'https://wiki.jachiet.com/wikipedia_fr_mathematics_nopic_2020-04/A/%'\"):\n",
    "        print(row)"
   ]
  },
  {
   "cell_type": "code",
   "execution_count": 48,
   "metadata": {},
   "outputs": [
    {
     "name": "stdout",
     "output_type": "stream",
     "text": [
      "(6398,)\n"
     ]
    }
   ],
   "source": [
    "for row in cursor.execute(\"SELECT COUNT(DISTINCT URL) FROM webpages WHERE URL LIKE 'https://wiki.jachiet.com/wikipedia_fr_mathematics_nopic_2020-04/A/%'\"):\n",
    "        print(row)"
   ]
  },
  {
   "cell_type": "code",
   "execution_count": 53,
   "metadata": {},
   "outputs": [
    {
     "name": "stdout",
     "output_type": "stream",
     "text": [
      "(0,)\n"
     ]
    }
   ],
   "source": [
    "for row in cursor.execute(\"SELECT COUNT(DISTINCT respURL) FROM responses WHERE respURL NOT IN (SELECT DISTINCT(URL) FROM webpages)\"):\n",
    "        print(row)"
   ]
  },
  {
   "cell_type": "code",
   "execution_count": null,
   "metadata": {},
   "outputs": [],
   "source": []
  }
 ],
 "metadata": {
  "kernelspec": {
   "display_name": "Python 3",
   "language": "python",
   "name": "python3"
  },
  "language_info": {
   "codemirror_mode": {
    "name": "ipython",
    "version": 3
   },
   "file_extension": ".py",
   "mimetype": "text/x-python",
   "name": "python",
   "nbconvert_exporter": "python",
   "pygments_lexer": "ipython3",
   "version": "3.7.4"
  }
 },
 "nbformat": 4,
 "nbformat_minor": 4
}
